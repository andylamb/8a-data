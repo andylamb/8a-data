{
 "cells": [
  {
   "cell_type": "code",
   "execution_count": 11,
   "metadata": {
    "collapsed": false
   },
   "outputs": [
    {
     "ename": "ImportError",
     "evalue": "No module named plotly.plotly",
     "output_type": "error",
     "traceback": [
      "\u001b[0;31m---------------------------------------------------------------------------\u001b[0m",
      "\u001b[0;31mImportError\u001b[0m                               Traceback (most recent call last)",
      "\u001b[0;32m<ipython-input-11-686b4509c8b7>\u001b[0m in \u001b[0;36m<module>\u001b[0;34m()\u001b[0m\n\u001b[0;32m----> 1\u001b[0;31m \u001b[0;32mimport\u001b[0m \u001b[0mplotly\u001b[0m\u001b[0;34m.\u001b[0m\u001b[0mplotly\u001b[0m \u001b[0;32mas\u001b[0m \u001b[0mpy\u001b[0m\u001b[0;34m\u001b[0m\u001b[0m\n\u001b[0m",
      "\u001b[0;31mImportError\u001b[0m: No module named plotly.plotly"
     ]
    }
   ],
   "source": [
    "import plotly.plotly as py"
   ]
  },
  {
   "cell_type": "code",
   "execution_count": 1,
   "metadata": {
    "collapsed": true
   },
   "outputs": [],
   "source": [
    "import sqlite3\n",
    "import numpy as np\n",
    "import matplotlib.pyplot as plt\n",
    "from scipy import stats\n",
    "\n",
    "%matplotlib inline\n",
    "\n",
    "conn = sqlite3.connect('../8a.db')\n",
    "c = conn.cursor()"
   ]
  },
  {
   "cell_type": "code",
   "execution_count": 2,
   "metadata": {
    "collapsed": false
   },
   "outputs": [],
   "source": [
    "c.execute(\"DROP VIEW IF EXISTS FilteredUsers;\")\n",
    "\n",
    "c.execute(\"\"\"\n",
    "CREATE VIEW FilteredUsers AS\n",
    "  SELECT\n",
    "    height,\n",
    "    weight,\n",
    "    ascents,\n",
    "    ascents_8a,\n",
    "    ascents_8b\n",
    "  FROM (\n",
    "    SELECT\n",
    "      cast(\n",
    "          replace(height_string, 'cm', '') AS INT\n",
    "      )        AS height,\n",
    "      cast(\n",
    "          replace(replace(weight_string, 'about', ''), 'kg', '') AS INT\n",
    "      )        AS weight,\n",
    "      count(*) AS ascents,\n",
    "      sum(\n",
    "          CASE\n",
    "          WHEN grade IN ('8A', '8A+', '8B', '8B+', '8C', '8C+')\n",
    "            THEN 1\n",
    "          ELSE 0\n",
    "          END\n",
    "      )        AS ascents_8a,\n",
    "      sum(\n",
    "          CASE\n",
    "          WHEN grade IN ('8B', '8B+', '8C', '8C+')\n",
    "            THEN 1\n",
    "          ELSE 0\n",
    "          END\n",
    "      )        AS ascents_8b\n",
    "    FROM Boulders\n",
    "      JOIN Users ON Boulders.user_id = Users.user_id\n",
    "    WHERE\n",
    "      height_string <> '' AND\n",
    "      weight_string <> ''\n",
    "    GROUP BY Users.user_id\n",
    "    HAVING ascents >= 10\n",
    "  )\n",
    "  WHERE\n",
    "    height BETWEEN 120 AND 245;\n",
    "\"\"\")\n",
    "\n",
    "c.execute(\"\"\"\n",
    "SELECT\n",
    "  height,\n",
    "  weight\n",
    "FROM FilteredUsers\n",
    "WHERE ascents >= 10 AND ascents_8a < 10 AND ascents_8b < 10;\n",
    "\"\"\")\n",
    "\n",
    "result_set = c.fetchall()\n",
    "heights = zip(*result_set)[0]\n",
    "weights = zip(*result_set)[1]\n",
    "bmis = [w / (h / 100.0)**2 for (h, w) in zip(heights, weights)]\n",
    "\n",
    "c.execute(\"\"\"\n",
    "SELECT\n",
    "  height,\n",
    "  weight\n",
    "FROM FilteredUsers\n",
    "WHERE ascents_8a >= 10 AND ascents_8b < 10;\n",
    "\"\"\")\n",
    "\n",
    "result_set = c.fetchall()\n",
    "heights_8a = zip(*result_set)[0]\n",
    "weights_8a = zip(*result_set)[1]\n",
    "bmis_8a = [w / (h / 100.0)**2 for (h, w) in zip(heights_8a, weights_8a)]\n",
    "\n",
    "c.execute(\"\"\"\n",
    "SELECT\n",
    "  height,\n",
    "  weight\n",
    "FROM FilteredUsers\n",
    "WHERE ascents_8b >= 10;\n",
    "\"\"\")\n",
    "\n",
    "result_set = c.fetchall()\n",
    "heights_8b = zip(*result_set)[0]\n",
    "weights_8b = zip(*result_set)[1]\n",
    "bmis_8b = [w / (h / 100.0)**2 for (h, w) in zip(heights_8b, weights_8b)]"
   ]
  },
  {
   "cell_type": "code",
   "execution_count": 3,
   "metadata": {
    "collapsed": false
   },
   "outputs": [
    {
     "name": "stdout",
     "output_type": "stream",
     "text": [
      "6358 total climbers, 480 8a climbers, 97 8b climbers.\n"
     ]
    }
   ],
   "source": [
    "print \"{} total climbers, {} 8a climbers, {} 8b climbers.\".format(len(heights), len(heights_8a), len(heights_8b))"
   ]
  },
  {
   "cell_type": "code",
   "execution_count": 4,
   "metadata": {
    "collapsed": false
   },
   "outputs": [
    {
     "data": {
      "image/png": "[encoded data removed]",
      "text/plain": [
       "<matplotlib.figure.Figure at 0x10897ff90>"
      ]
     },
     "metadata": {},
     "output_type": "display_data"
    }
   ],
   "source": [
    "data = [heights, heights_8a, heights_8b]\n",
    "\n",
    "fig, ax1 = plt.subplots(figsize=(15, 9))\n",
    "bp = plt.boxplot(data)\n",
    "\n",
    "# Add a horizontal grid to the plot, but make it very light in color\n",
    "# so we can use it for reading data values but not be distracting\n",
    "ax1.yaxis.grid(\n",
    "    True, linestyle='-', which='major', \n",
    "    color='lightgrey', alpha=0.5\n",
    ")\n",
    "\n",
    "ax1.set_axisbelow(True)\n",
    "ax1.set_ylabel('Height (cm)')\n",
    "xtickNames = plt.setp(ax1, xticklabels=['All', '8a Climbers', '8b Climbers'])\n",
    "\n",
    "medians = [np.median(pop) for pop in data]\n",
    "median_labels = [str(np.round(s, 2)) for s in medians]\n",
    "\n",
    "pos = range(len(medians))\n",
    "for tick, label in zip(pos, ax1.get_xticklabels()):\n",
    "    ax1.text(pos[tick] + 1, medians[tick] + 0.5, median_labels[tick], \n",
    "            horizontalalignment='center', size='small', weight='semibold')"
   ]
  },
  {
   "cell_type": "code",
   "execution_count": 5,
   "metadata": {
    "collapsed": false
   },
   "outputs": [
    {
     "name": "stdout",
     "output_type": "stream",
     "text": [
      "\n",
      "| |All Climbers | 8a Climbers | 8b Climbers|\n",
      "---|-------------|-------------|------------|\n",
      "Median | 178.0 | 177.0 | 178.0 |\n",
      "25th Percentile | 172.0 | 171.0 | 172.0 |\n",
      "75th Percentile | 182.0 | 181.0 | 180.0 |\n"
     ]
    }
   ],
   "source": [
    "print \"\"\"\n",
    "| |All Climbers | 8a Climbers | 8b Climbers|\n",
    "---|-------------|-------------|------------|\"\"\"\n",
    "print \"Median | {} | {} | {} |\".format(np.median(heights), np.median(heights_8a), np.median(heights_8b))\n",
    "print \"25th Percentile | {} | {} | {} |\".format(\n",
    "    np.percentile(heights, 25), np.percentile(heights_8a, 25), np.percentile(heights_8b, 25)\n",
    ")\n",
    "print \"75th Percentile | {} | {} | {} |\".format(\n",
    "    np.percentile(heights, 75), np.percentile(heights_8a, 75), np.percentile(heights_8b, 75)\n",
    ")"
   ]
  },
  {
   "cell_type": "code",
   "execution_count": 6,
   "metadata": {
    "collapsed": false
   },
   "outputs": [
    {
     "data": {
      "image/png": "[encoded data removed]",
      "text/plain": [
       "<matplotlib.figure.Figure at 0x1092d7590>"
      ]
     },
     "metadata": {},
     "output_type": "display_data"
    }
   ],
   "source": [
    "data = [weights, weights_8a, weights_8b]\n",
    "\n",
    "fig, ax1 = plt.subplots(figsize=(15, 9))\n",
    "bp = plt.boxplot(data)\n",
    "\n",
    "# Add a horizontal grid to the plot, but make it very light in color\n",
    "# so we can use it for reading data values but not be distracting\n",
    "ax1.yaxis.grid(\n",
    "    True, linestyle='-', which='major', \n",
    "    color='lightgrey', alpha=0.5\n",
    ")\n",
    "\n",
    "ax1.set_axisbelow(True)\n",
    "ax1.set_ylabel('Weight (kg)')\n",
    "xtickNames = plt.setp(ax1, xticklabels=['All', '8a Climbers', '8b Climbers'])\n",
    "\n",
    "medians = [np.median(pop) for pop in data]\n",
    "median_labels = [str(np.round(s, 2)) for s in medians]\n",
    "\n",
    "pos = range(len(medians))\n",
    "for tick, label in zip(pos, ax1.get_xticklabels()):\n",
    "    ax1.text(pos[tick] + 1, medians[tick] + 0.5, median_labels[tick], \n",
    "            horizontalalignment='center', size='small', weight='semibold')"
   ]
  },
  {
   "cell_type": "code",
   "execution_count": 7,
   "metadata": {
    "collapsed": false
   },
   "outputs": [
    {
     "name": "stdout",
     "output_type": "stream",
     "text": [
      "\n",
      "| |All Climbers | 8a Climbers | 8b Climbers|\n",
      "---|-------------|-------------|------------|\n",
      "Median | 68.0 | 68.0 | 68.0 |\n",
      "25th Percentile | 63.0 | 63.0 | 63.0 |\n",
      "75th Percentile | 73.0 | 73.0 | 68.0 |\n"
     ]
    }
   ],
   "source": [
    "print \"\"\"\n",
    "| |All Climbers | 8a Climbers | 8b Climbers|\n",
    "---|-------------|-------------|------------|\"\"\"\n",
    "print \"Median | {} | {} | {} |\".format(np.median(weights), np.median(weights_8a), np.median(weights_8b))\n",
    "print \"25th Percentile | {} | {} | {} |\".format(\n",
    "    np.percentile(weights, 25), np.percentile(weights_8a, 25), np.percentile(weights_8b, 25)\n",
    ")\n",
    "print \"75th Percentile | {} | {} | {} |\".format(\n",
    "    np.percentile(weights, 75), np.percentile(weights_8a, 75), np.percentile(weights_8b, 75)\n",
    ")"
   ]
  },
  {
   "cell_type": "code",
   "execution_count": 8,
   "metadata": {
    "collapsed": false
   },
   "outputs": [
    {
     "data": {
      "image/png": "[encoded data removed]",
      "text/plain": [
       "<matplotlib.figure.Figure at 0x1095c17d0>"
      ]
     },
     "metadata": {},
     "output_type": "display_data"
    }
   ],
   "source": [
    "data = [bmis, bmis_8a, bmis_8b]\n",
    "\n",
    "fig, ax1 = plt.subplots(figsize=(15, 9))\n",
    "bp = plt.boxplot(data, sym='')\n",
    "\n",
    "# Add a horizontal grid to the plot, but make it very light in color\n",
    "# so we can use it for reading data values but not be distracting\n",
    "ax1.yaxis.grid(\n",
    "    True, linestyle='-', which='major', \n",
    "    color='lightgrey', alpha=0.5\n",
    ")\n",
    "\n",
    "ax1.set_axisbelow(True)\n",
    "ax1.set_ylabel('BMI (kb / m^2)')\n",
    "xtickNames = plt.setp(ax1, xticklabels=['All', '8a Climbers', '8b Climbers'])\n",
    "\n",
    "medians = [np.median(pop) for pop in data]\n",
    "median_labels = [str(np.round(s, 2)) for s in medians]\n",
    "\n",
    "pos = range(len(medians))\n",
    "for tick, label in zip(pos, ax1.get_xticklabels()):\n",
    "    ax1.text(pos[tick] + 1, medians[tick] + 0.1, median_labels[tick], \n",
    "            horizontalalignment='center', size='small', weight='semibold')"
   ]
  },
  {
   "cell_type": "code",
   "execution_count": 9,
   "metadata": {
    "collapsed": false
   },
   "outputs": [
    {
     "name": "stdout",
     "output_type": "stream",
     "text": [
      "\n",
      "| |All Climbers | 8a Climbers | 8b Climbers|\n",
      "---|-------------|-------------|------------|\n",
      "Median | 21.80 | 21.33 | 21.30 |\n",
      "25th Percentile | 20.53 | 20.34 | 19.88 |\n",
      "75th Percentile | 23.04 | 22.53 | 22.53 |\n"
     ]
    }
   ],
   "source": [
    "print \"\"\"\n",
    "| |All Climbers | 8a Climbers | 8b Climbers|\n",
    "---|-------------|-------------|------------|\"\"\"\n",
    "print \"Median | {:.2f} | {:.2f} | {:.2f} |\".format(np.median(bmis), np.median(bmis_8a), np.median(bmis_8b))\n",
    "print \"25th Percentile | {:.2f} | {:.2f} | {:.2f} |\".format(\n",
    "    np.percentile(bmis, 25), np.percentile(bmis_8a, 25), np.percentile(bmis_8b, 25)\n",
    ")\n",
    "print \"75th Percentile | {:.2f} | {:.2f} | {:.2f} |\".format(\n",
    "    np.percentile(bmis, 75), np.percentile(bmis_8a, 75), np.percentile(bmis_8b, 75)\n",
    ")"
   ]
  },
  {
   "cell_type": "code",
   "execution_count": 10,
   "metadata": {
    "collapsed": false
   },
   "outputs": [
    {
     "name": "stdout",
     "output_type": "stream",
     "text": [
      "BMIs\n",
      "################################################################################\n",
      "All, 8a: (4.9404298214479132, 1.0382184148337597e-06)\n",
      "All, 8b: (2.5892233570559098, 0.011096337947762503)\n",
      "8a, 8b: (0.42591628286792443, 0.67088162399094031)\n",
      "\n",
      "Weights\n",
      "################################################################################\n",
      "All, 8a: (4.8563970081064927, 1.5559657004223712e-06)\n",
      "All, 8b: (5.5209851173724775, 3.2323390730842804e-07)\n",
      "8a, 8b: (1.9886889681255144, 0.048433811645671551)\n",
      "\n",
      "Heights\n",
      "################################################################################\n",
      "All, 8a: (1.9791061893603772, 0.048313737049910051)\n",
      "All, 8b: (1.5372659651520377, 0.12758584688564067)\n",
      "8a, 8b: (0.46449318262129269, 0.64302047203140211)\n"
     ]
    }
   ],
   "source": [
    "def remove_outliers(data):\n",
    "    low_quartile = np.percentile(data, 25)\n",
    "    high_quartile = np.percentile(data, 75)\n",
    "    iqr = high_quartile - low_quartile\n",
    "    return [\n",
    "        datum for datum in data\n",
    "        if low_quartile - iqr <= datum <= high_quartile + iqr\n",
    "    ]\n",
    "\n",
    "def ttest_ind_remove_outliers(a, b, equal_var=True, should_remove_outliers=True):\n",
    "    if should_remove_outliers:\n",
    "        return stats.ttest_ind(remove_outliers(a), remove_outliers(b), equal_var=equal_var)\n",
    "    else:\n",
    "        return stats.ttest_ind(a, b, equal_var=equal_var)\n",
    "\n",
    "equal_var = False\n",
    "should_remove_outliers = True\n",
    "\n",
    "print \"BMIs\"\n",
    "print \"#\"*80\n",
    "\n",
    "print \"All, 8a: {}\".format(ttest_ind_remove_outliers(bmis, bmis_8a, equal_var=equal_var, should_remove_outliers=should_remove_outliers))\n",
    "print \"All, 8b: {}\".format(ttest_ind_remove_outliers(bmis, bmis_8b, equal_var=equal_var, should_remove_outliers=should_remove_outliers))\n",
    "print \"8a, 8b: {}\".format(ttest_ind_remove_outliers(bmis_8a, bmis_8b, equal_var=equal_var, should_remove_outliers=should_remove_outliers))\n",
    "\n",
    "print \"\"\"\n",
    "Weights\"\"\"\n",
    "print \"#\"*80\n",
    "\n",
    "print \"All, 8a: {}\".format(ttest_ind_remove_outliers(weights, weights_8a, equal_var=equal_var, should_remove_outliers=should_remove_outliers))\n",
    "print \"All, 8b: {}\".format(ttest_ind_remove_outliers(weights, weights_8b, equal_var=equal_var, should_remove_outliers=should_remove_outliers))\n",
    "print \"8a, 8b: {}\".format(ttest_ind_remove_outliers(weights_8a, weights_8b, equal_var=equal_var, should_remove_outliers=should_remove_outliers))\n",
    "\n",
    "print \"\"\"\n",
    "Heights\"\"\"\n",
    "print \"#\"*80\n",
    "\n",
    "print \"All, 8a: {}\".format(ttest_ind_remove_outliers(heights, heights_8a, equal_var=equal_var, should_remove_outliers=should_remove_outliers))\n",
    "print \"All, 8b: {}\".format(ttest_ind_remove_outliers(heights, heights_8b, equal_var=equal_var, should_remove_outliers=should_remove_outliers))\n",
    "print \"8a, 8b: {}\".format(ttest_ind_remove_outliers(heights_8a, heights_8b, equal_var=equal_var, should_remove_outliers=should_remove_outliers))"
   ]
  }
 ],
 "metadata": {
  "kernelspec": {
   "display_name": "Python 2",
   "language": "python",
   "name": "python2"
  },
  "language_info": {
   "codemirror_mode": {
    "name": "ipython",
    "version": 2
   },
   "file_extension": ".py",
   "mimetype": "text/x-python",
   "name": "python",
   "nbconvert_exporter": "python",
   "pygments_lexer": "ipython2",
   "version": "2.7.10"
  }
 },
 "nbformat": 4,
 "nbformat_minor": 0
}
