{
 "cells": [
  {
   "cell_type": "code",
   "execution_count": 1,
   "metadata": {
    "collapsed": true
   },
   "outputs": [],
   "source": [
    "import sqlite3\n",
    "import numpy as np\n",
    "import matplotlib.pyplot as plt\n",
    "\n",
    "%matplotlib inline\n",
    "\n",
    "conn = sqlite3.connect('../8a.db')\n",
    "c = conn.cursor()"
   ]
  },
  {
   "cell_type": "code",
   "execution_count": 2,
   "metadata": {
    "collapsed": false
   },
   "outputs": [],
   "source": [
    "c.execute(\"\"\"\n",
    "SELECT\n",
    "  height,\n",
    "  weight\n",
    "FROM (\n",
    "  SELECT\n",
    "    cast(\n",
    "        replace(height_string, 'cm', '') AS INT\n",
    "    ) AS height,\n",
    "    cast(\n",
    "        replace(replace(weight_string, 'about', ''), 'kg', '') AS INT\n",
    "    ) AS weight\n",
    "  FROM Users\n",
    "  WHERE height_string <> '' AND weight_string <> ''\n",
    ")\n",
    "WHERE\n",
    "  height BETWEEN 120 AND 245;\n",
    "\"\"\")\n",
    "\n",
    "result_set = c.fetchall()\n",
    "heights = zip(*result_set)[0]\n",
    "weights = zip(*result_set)[1]\n",
    "bmis = [w / (h / 100.0)**2 for (h, w) in zip(heights, weights)]\n",
    "\n",
    "c.execute(\"\"\"\n",
    "SELECT\n",
    "  height,\n",
    "  weight\n",
    "FROM (\n",
    "  SELECT\n",
    "    cast(\n",
    "        replace(height_string, 'cm', '') AS INT\n",
    "    )        AS height,\n",
    "    cast(\n",
    "        replace(replace(weight_string, 'about', ''), 'kg', '') AS INT\n",
    "    )        AS weight,\n",
    "    count(*) AS ascents\n",
    "  FROM Boulders\n",
    "    JOIN Users ON Boulders.user_id = Users.user_id\n",
    "  WHERE\n",
    "    grade IN ('8A', '8A+', '8B', '8B+', '8C', '8C+') AND\n",
    "    height_string <> '' AND\n",
    "    weight_string <> ''\n",
    "  GROUP BY Users.user_id\n",
    "  HAVING ascents >= 10\n",
    ")\n",
    "WHERE\n",
    "  height BETWEEN 120 AND 245;\n",
    "\"\"\")\n",
    "\n",
    "result_set = c.fetchall()\n",
    "heights_8a = zip(*result_set)[0]\n",
    "weights_8a = zip(*result_set)[1]\n",
    "bmis_8a = [w / (h / 100.0)**2 for (h, w) in zip(heights_8a, weights_8a)]\n",
    "\n",
    "c.execute(\"\"\"\n",
    "SELECT\n",
    "  height,\n",
    "  weight\n",
    "FROM (\n",
    "  SELECT\n",
    "    cast(\n",
    "        replace(height_string, 'cm', '') AS INT\n",
    "    )        AS height,\n",
    "    cast(\n",
    "        replace(replace(weight_string, 'about', ''), 'kg', '') AS INT\n",
    "    )        AS weight,\n",
    "    count(*) AS ascents\n",
    "  FROM Boulders\n",
    "    JOIN Users ON Boulders.user_id = Users.user_id\n",
    "  WHERE\n",
    "    grade IN ('8B', '8B+', '8C', '8C+') AND\n",
    "    height_string <> '' AND\n",
    "    weight_string <> ''\n",
    "  GROUP BY Users.user_id\n",
    "  HAVING ascents >= 10\n",
    ")\n",
    "WHERE\n",
    "  height BETWEEN 120 AND 245;\n",
    "\"\"\")\n",
    "\n",
    "result_set = c.fetchall()\n",
    "heights_8b = zip(*result_set)[0]\n",
    "weights_8b = zip(*result_set)[1]\n",
    "bmis_8b = [w / (h / 100.0)**2 for (h, w) in zip(heights_8b, weights_8b)]"
   ]
  },
  {
   "cell_type": "code",
   "execution_count": 3,
   "metadata": {
    "collapsed": false
   },
   "outputs": [
    {
     "name": "stdout",
     "output_type": "stream",
     "text": [
      "24979 total climbers, 577 8a climbers, 97 8b climbers.\n"
     ]
    }
   ],
   "source": [
    "print \"{} total climbers, {} 8a climbers, {} 8b climbers.\".format(len(heights), len(heights_8a), len(heights_8b))"
   ]
  },
  {
   "cell_type": "code",
   "execution_count": 4,
   "metadata": {
    "collapsed": false
   },
   "outputs": [
    {
     "data": {
      "image/png": "[encoded data removed]",
      "text/plain": [
       "<matplotlib.figure.Figure at 0x107d7d210>"
      ]
     },
     "metadata": {},
     "output_type": "display_data"
    }
   ],
   "source": [
    "data = [heights, heights_8a, heights_8b]\n",
    "\n",
    "fig, ax1 = plt.subplots(figsize=(15, 9))\n",
    "bp = plt.boxplot(data)\n",
    "\n",
    "# Add a horizontal grid to the plot, but make it very light in color\n",
    "# so we can use it for reading data values but not be distracting\n",
    "ax1.yaxis.grid(\n",
    "    True, linestyle='-', which='major', \n",
    "    color='lightgrey', alpha=0.5\n",
    ")\n",
    "\n",
    "ax1.set_axisbelow(True)\n",
    "ax1.set_ylabel('Height (cm)')\n",
    "xtickNames = plt.setp(ax1, xticklabels=['All', '8a Climbers', '8b Climbers'])\n",
    "\n",
    "medians = [np.median(pop) for pop in data]\n",
    "median_labels = [str(np.round(s, 2)) for s in medians]\n",
    "\n",
    "pos = range(len(medians))\n",
    "for tick, label in zip(pos, ax1.get_xticklabels()):\n",
    "    ax1.text(pos[tick] + 1, medians[tick] + 0.5, median_labels[tick], \n",
    "            horizontalalignment='center', size='small', weight='semibold')"
   ]
  },
  {
   "cell_type": "code",
   "execution_count": 5,
   "metadata": {
    "collapsed": false
   },
   "outputs": [
    {
     "name": "stdout",
     "output_type": "stream",
     "text": [
      "\n",
      "|All Climbers | 8a Climbers | 8b Climbers|\n",
      "---|-------------|-------------|------------|\n",
      "Median | 177.0 | 177.0 | 178.0 |\n",
      "25th Percentile | 172.0 | 171.0 | 172.0 |\n",
      "75th Percentile | 182.0 | 180.0 | 180.0 |\n"
     ]
    }
   ],
   "source": [
    "print \"\"\"\n",
    "| |All Climbers | 8a Climbers | 8b Climbers|\n",
    "---|-------------|-------------|------------|\"\"\"\n",
    "print \"Median | {} | {} | {} |\".format(np.median(heights), np.median(heights_8a), np.median(heights_8b))\n",
    "print \"25th Percentile | {} | {} | {} |\".format(\n",
    "    np.percentile(heights, 25), np.percentile(heights_8a, 25), np.percentile(heights_8b, 25)\n",
    ")\n",
    "print \"75th Percentile | {} | {} | {} |\".format(\n",
    "    np.percentile(heights, 75), np.percentile(heights_8a, 75), np.percentile(heights_8b, 75)\n",
    ")"
   ]
  },
  {
   "cell_type": "code",
   "execution_count": 6,
   "metadata": {
    "collapsed": false
   },
   "outputs": [
    {
     "data": {
      "image/png": "[encoded data removed]",
      "text/plain": [
       "<matplotlib.figure.Figure at 0x107d67ad0>"
      ]
     },
     "metadata": {},
     "output_type": "display_data"
    }
   ],
   "source": [
    "data = [weights, weights_8a, weights_8b]\n",
    "\n",
    "fig, ax1 = plt.subplots(figsize=(15, 9))\n",
    "bp = plt.boxplot(data)\n",
    "\n",
    "# Add a horizontal grid to the plot, but make it very light in color\n",
    "# so we can use it for reading data values but not be distracting\n",
    "ax1.yaxis.grid(\n",
    "    True, linestyle='-', which='major', \n",
    "    color='lightgrey', alpha=0.5\n",
    ")\n",
    "\n",
    "ax1.set_axisbelow(True)\n",
    "ax1.set_ylabel('Weight (kg)')\n",
    "xtickNames = plt.setp(ax1, xticklabels=['All', '8a Climbers', '8b Climbers'])\n",
    "\n",
    "medians = [np.median(pop) for pop in data]\n",
    "median_labels = [str(np.round(s, 2)) for s in medians]\n",
    "\n",
    "pos = range(len(medians))\n",
    "for tick, label in zip(pos, ax1.get_xticklabels()):\n",
    "    ax1.text(pos[tick] + 1, medians[tick] + 0.5, median_labels[tick], \n",
    "            horizontalalignment='center', size='small', weight='semibold')"
   ]
  },
  {
   "cell_type": "code",
   "execution_count": 7,
   "metadata": {
    "collapsed": false
   },
   "outputs": [
    {
     "name": "stdout",
     "output_type": "stream",
     "text": [
      "\n",
      "|All Climbers | 8a Climbers | 8b Climbers|\n",
      "---|-------------|-------------|------------|\n",
      "Median | 68.0 | 68.0 | 68.0 |\n",
      "25th Percentile | 63.0 | 63.0 | 63.0 |\n",
      "75th Percentile | 73.0 | 73.0 | 68.0 |\n"
     ]
    }
   ],
   "source": [
    "print \"\"\"\n",
    "| |All Climbers | 8a Climbers | 8b Climbers|\n",
    "---|-------------|-------------|------------|\"\"\"\n",
    "print \"Median | {} | {} | {} |\".format(np.median(weights), np.median(weights_8a), np.median(weights_8b))\n",
    "print \"25th Percentile | {} | {} | {} |\".format(\n",
    "    np.percentile(weights, 25), np.percentile(weights_8a, 25), np.percentile(weights_8b, 25)\n",
    ")\n",
    "print \"75th Percentile | {} | {} | {} |\".format(\n",
    "    np.percentile(weights, 75), np.percentile(weights_8a, 75), np.percentile(weights_8b, 75)\n",
    ")"
   ]
  },
  {
   "cell_type": "code",
   "execution_count": 8,
   "metadata": {
    "collapsed": false
   },
   "outputs": [
    {
     "data": {
      "image/png": "[encoded data removed]",
      "text/plain": [
       "<matplotlib.figure.Figure at 0x107e8a910>"
      ]
     },
     "metadata": {},
     "output_type": "display_data"
    }
   ],
   "source": [
    "data = [bmis, bmis_8a, bmis_8b]\n",
    "\n",
    "fig, ax1 = plt.subplots(figsize=(15, 9))\n",
    "bp = plt.boxplot(data, sym='')\n",
    "\n",
    "# Add a horizontal grid to the plot, but make it very light in color\n",
    "# so we can use it for reading data values but not be distracting\n",
    "ax1.yaxis.grid(\n",
    "    True, linestyle='-', which='major', \n",
    "    color='lightgrey', alpha=0.5\n",
    ")\n",
    "\n",
    "ax1.set_axisbelow(True)\n",
    "ax1.set_ylabel('BMI (kb / m^2)')\n",
    "xtickNames = plt.setp(ax1, xticklabels=['All', '8a Climbers', '8b Climbers'])\n",
    "\n",
    "medians = [np.median(pop) for pop in data]\n",
    "median_labels = [str(np.round(s, 2)) for s in medians]\n",
    "\n",
    "pos = range(len(medians))\n",
    "for tick, label in zip(pos, ax1.get_xticklabels()):\n",
    "    ax1.text(pos[tick] + 1, medians[tick] + 0.1, median_labels[tick], \n",
    "            horizontalalignment='center', size='small', weight='semibold')"
   ]
  },
  {
   "cell_type": "code",
   "execution_count": 11,
   "metadata": {
    "collapsed": false
   },
   "outputs": [
    {
     "name": "stdout",
     "output_type": "stream",
     "text": [
      "\n",
      "|All Climbers | 8a Climbers | 8b Climbers|\n",
      "---|-------------|-------------|------------|\n",
      "Median | 21.80 | 21.30 | 21.30 |\n",
      "25th Percentile | 20.53 | 20.31 | 19.88 |\n",
      "75th Percentile | 23.29 | 22.53 | 22.53 |\n"
     ]
    }
   ],
   "source": [
    "print \"\"\"\n",
    "| |All Climbers | 8a Climbers | 8b Climbers|\n",
    "---|-------------|-------------|------------|\"\"\"\n",
    "print \"Median | {:.2f} | {:.2f} | {:.2f} |\".format(np.median(bmis), np.median(bmis_8a), np.median(bmis_8b))\n",
    "print \"25th Percentile | {:.2f} | {:.2f} | {:.2f} |\".format(\n",
    "    np.percentile(bmis, 25), np.percentile(bmis_8a, 25), np.percentile(bmis_8b, 25)\n",
    ")\n",
    "print \"75th Percentile | {:.2f} | {:.2f} | {:.2f} |\".format(\n",
    "    np.percentile(bmis, 75), np.percentile(bmis_8a, 75), np.percentile(bmis_8b, 75)\n",
    ")"
   ]
  },
  {
   "cell_type": "code",
   "execution_count": null,
   "metadata": {
    "collapsed": true
   },
   "outputs": [],
   "source": []
  }
 ],
 "metadata": {
  "kernelspec": {
   "display_name": "Python 2",
   "language": "python",
   "name": "python2"
  },
  "language_info": {
   "codemirror_mode": {
    "name": "ipython",
    "version": 2
   },
   "file_extension": ".py",
   "mimetype": "text/x-python",
   "name": "python",
   "nbconvert_exporter": "python",
   "pygments_lexer": "ipython2",
   "version": "2.7.10"
  }
 },
 "nbformat": 4,
 "nbformat_minor": 0
}
